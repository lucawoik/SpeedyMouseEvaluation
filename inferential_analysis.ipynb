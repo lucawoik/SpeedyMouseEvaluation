{
 "cells": [
  {
   "cell_type": "code",
   "execution_count": null,
   "metadata": {},
   "outputs": [],
   "source": [
    "import pandas as pd\n",
    "import seaborn as sns\n",
    "from matplotlib import pyplot as plt\n",
    "\n",
    "from matplotlib import patches\n",
    "\n",
    "from scipy.stats import shapiro, rankdata, friedmanchisquare, ttest_rel, wilcoxon\n",
    "from statsmodels.stats.anova import AnovaRM\n",
    "from scikit_posthocs import posthoc_ttest, posthoc_wilcoxon, posthoc_tukey_hsd, posthoc_tukey\n",
    "\n",
    "import numpy as np\n",
    "import scipy\n",
    "scipy.__version__"
   ]
  },
  {
   "cell_type": "markdown",
   "metadata": {},
   "source": [
    "# Inferential Analysis\n",
    "- one-way repeated-measures ANOVA (+correction??) for latency throughput\n",
    "- two-way repeated-measures ANOVA for latency, id -> movement time\n",
    "- two-way repeated-measures ANOVA for latency, id -> error rate\n",
    "- one-way repeated-measures ANOVA for latency -> nasa tlx"
   ]
  },
  {
   "cell_type": "code",
   "execution_count": null,
   "metadata": {},
   "outputs": [],
   "source": [
    "# check if normal distribution (voraussetzung für anova (sonst nicht-parametrischer test))\n",
    "dv = 'throughput'\n",
    "\n",
    "normal_40   = shapiro(clicks_df[clicks_df['level_of_latency'] == 40][dv])\n",
    "normal_20  = shapiro(clicks_df[clicks_df['level_of_latency'] == 20][dv])\n",
    "normal_0  = shapiro(clicks_df[clicks_df['level_of_latency'] == 0][dv])\n",
    "normal_neg20  = shapiro(clicks_df[clicks_df['level_of_latency'] == -20][dv])\n",
    "normal_neg40  = shapiro(clicks_df[clicks_df['level_of_latency'] == -40][dv])\n",
    "\n",
    "print(f'Test for normal distribution for dependent variable {dv}:')\n",
    "print(f'40ms latency: {normal_40}')\n",
    "print(f'20ms latency: {normal_20}')\n",
    "print(f'0ms latency: {normal_0}')\n",
    "print(f'-20ms latency: {normal_neg20}')\n",
    "print(f'-40ms latency: {normal_neg40}')\n",
    "\n",
    "sns.kdeplot(data=clicks_df, x=dv, hue='level_of_latency', fill=True, palette='deep')\n",
    "# nicht-normalverteilt bei pc -> nicht-parametrischer test\n",
    "# eigentlich residuals anschauen"
   ]
  },
  {
   "cell_type": "code",
   "execution_count": null,
   "metadata": {},
   "outputs": [],
   "source": [
    "data_paper = df_annotation[df_annotation['medium'] == 'paper'][dv]\n",
    "data_PC = df_annotation[df_annotation['medium'] == 'PC'][dv]\n",
    "data_tablet = df_annotation[df_annotation['medium'] == 'tablet'][dv]\n",
    "\n",
    "f, p = friedmanchisquare(data_paper, data_PC, data_tablet)\n",
    "\n",
    "print(f'Friedman Results: f = {f:.3f}, p = {p:.8f}')\n",
    "# p wert kleiner als 0.001 wird nur als p < 0.001 dargestellt im paper \n",
    "# aus f wert effektgröße ausrechnen"
   ]
  },
  {
   "cell_type": "code",
   "execution_count": null,
   "metadata": {},
   "outputs": [],
   "source": [
    "print(posthoc_wilcoxon(df_annotation, val_col=dv, group_col='medium', p_adjust='holm', sort=False))\n",
    "# bonferroni holm korrektur\n",
    "# ergebniss: alle sind signifikant\n",
    "# evtl auch mit effektgröße"
   ]
  },
  {
   "cell_type": "code",
   "execution_count": null,
   "metadata": {},
   "outputs": [],
   "source": [
    "print(AnovaRM(data=clicks_df, depvar='throughput', \n",
    "              subject='participant_id', within=['level_of_latency']).fit()) "
   ]
  },
  {
   "cell_type": "code",
   "execution_count": null,
   "metadata": {},
   "outputs": [],
   "source": [
    "print(AnovaRM(data=clicks_df, depvar='completion_time', \n",
    "              subject='participant_id', within=['level_of_latency', 'IDe']).fit()) "
   ]
  },
  {
   "cell_type": "code",
   "execution_count": null,
   "metadata": {},
   "outputs": [],
   "source": [
    "print(AnovaRM(data=clicks_df, depvar='error_rate', \n",
    "              subject='participant_id', within=['level_of_latency', 'IDe']).fit()) "
   ]
  }
 ],
 "metadata": {
  "language_info": {
   "name": "python"
  }
 },
 "nbformat": 4,
 "nbformat_minor": 2
}
